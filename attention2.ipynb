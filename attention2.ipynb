{
 "cells": [
  {
   "cell_type": "code",
   "execution_count": 49,
   "metadata": {
    "collapsed": false
   },
   "outputs": [],
   "source": [
    "import os\n",
    "import PIL\n",
    "from keras.utils import np_utils\n",
    "from keras.layers import Dense, Dropout, Input, Flatten, Lambda, SimpleRNN, LSTM, Reshape\n",
    "from keras.layers.convolutional import Conv2D\n",
    "from keras.layers.merge import Multiply, Concatenate\n",
    "from keras import backend as K\n",
    "from keras.models import Model\n",
    "\n",
    "def output_of_lambda(input_shape):\n",
    "    return (input_shape[0], input_shape[1])\n",
    "\n",
    "def att(ip, classes, loc):\n",
    "    x1 = Input(shape=ip[0], batch_shape=(1,1,784), name='input1_patch')\n",
    "    l2 = Input(shape=ip[1], batch_shape=(1,1,2), name='input2_loc')\n",
    "    x3 =Input(shape=ip[2], batch_shape=(1,1,625), name='input3_coarse')\n",
    "    # Glimpse layer\n",
    "    m1 = Dense(256, activation='relu')(x1)\n",
    "    m2 = Dense(256, activation='relu')(l2)\n",
    "    g = Multiply()([m1, m2])\n",
    "    # Recurrent layer\n",
    "    r1 = LSTM(512, return_sequences=False, activation='tanh', stateful=True)(g)\n",
    "    rr1 = Reshape((1,512))(r1)\n",
    "    m = Concatenate(axis=2)([rr1, x3])\n",
    "    r2 = LSTM(512, return_sequences=False, activation='tanh', stateful=True)(m)\n",
    "    # Emission layer\n",
    "    e = Dense(loc, activation=None, name='emit')(r2)\n",
    "    # Classification layer\n",
    "    c = Dense(classes, activation='softmax', name='class')(r1)\n",
    "  \n",
    "    model = Model(inputs=[x1,l2,x3], outputs=[c,e])\n",
    "    return model\n",
    "\n",
    "from keras.datasets import mnist\n",
    "import numpy as np\n",
    "from keras.utils import np_utils\n",
    "\n",
    "def curate_data(x, y, group, loc):\n",
    "    m = x.shape[0]\n",
    "    data = np.zeros((m,100,100))\n",
    "    label = np.zeros((m,2), dtype=np.uint8)\n",
    "    k = 0 \n",
    "    for (i,j) in group: \n",
    "        new = np.zeros((100,100)) \n",
    "        if abs(loc[k,2] - loc[k,0]) < 28: \n",
    "            loc[k,2] = (max(loc[k,0],loc[k,2])+28)%(100-29)\n",
    "        if abs(loc[k,3] - loc[k,1]) < 28:\n",
    "            loc[k,3] = (max(loc[k,1],loc[k,3])+28)%(100-29)\n",
    "        new[loc[k,0]:loc[k,0]+28,loc[k,1]:loc[k,1]+28] = x[i,:,:]\n",
    "        new[loc[k,2]:loc[k,2]+28,loc[k,3]:loc[k,3]+28] = x[j,:,:] \n",
    "        data[k,:,:] = new\n",
    "        label[k,0] = y[i]\n",
    "        label[k,1] = y[j]\n",
    "        k += 1\n",
    "    return (data, label, loc)\n",
    "\n",
    "import cv2\n",
    "\n",
    "def predict_on_image(img, model):\n",
    "    loc_out = np.zeros((11,2), dtype=int)\n",
    "    lab_out = np.zeros((10,10))\n",
    "    loc_out[0,:] = np.random.randint(0,100-29,size=(1,2))\n",
    "    patch = np.reshape(img[loc_out[0,0]:loc_out[0,0]+28,loc_out[0,1]:loc_out[0,1]+28], (1,1,784))\n",
    "    loc_in = np.reshape(loc_out[0,:], (1,1,2))\n",
    "    loc_in = loc_in/100-0.5\n",
    "    for j in range(0,2):\n",
    "        for k in range(0,5):\n",
    "            ind = j*5+k\n",
    "            img_coarse = cv2.resize(img, None, fx=1/4, fy=1/4, interpolation=cv2.INTER_AREA)\n",
    "            img_coarse = np.reshape(img_coarse, (1,1,625))\n",
    "            (classes, pred_loc) = model.predict_on_batch({'input1_patch': patch, 'input2_loc': loc_in, \n",
    "                                              'input3_coarse': img_coarse})\n",
    "            loc_in = np.reshape(pred_loc, (1,1,2))\n",
    "            loc_out[ind+1,:] = (((pred_loc+0.5)*100)%(100-29)).astype(int)\n",
    "            patch = np.reshape(img[loc_out[ind+1,0]:loc_out[ind+1,0]+28,loc_out[ind+1,1]:loc_out[ind+1,1]+28], (1,1,784))\n",
    "            lab_out[ind,:] = classes\n",
    "    model.reset_states()\n",
    "    return (lab_out, loc_out)\n",
    "\n",
    "def train_on_image(img, gnd_class, gnd_loc, loc_out, model):\n",
    "    for j in range(0,2):\n",
    "        for k in range(0,5):\n",
    "            ind = j*5+k\n",
    "            loc_in = loc_out[ind,:]/100-0.5\n",
    "            patch = np.reshape(img[loc_out[ind,0]:loc_out[ind,0]+28,loc_out[ind,1]:loc_out[ind,1]+28], (1,1,784))\n",
    "            if j==0:\n",
    "                true_loc = gnd_loc[0:2]/100-0.5\n",
    "                true_class = gnd_class[0]\n",
    "            else:\n",
    "                true_loc = gnd_loc[2:4]/100-0.5\n",
    "                true_class = gnd_class[1]\n",
    "            true_loc = np.reshape(true_loc, (1,2))\n",
    "            img_coarse = cv2.resize(img, None, fx=1/4, fy=1/4, interpolation=cv2.INTER_AREA)\n",
    "            img_coarse = np.reshape(img_coarse, (1,1,625))\n",
    "            loc_in = np.reshape(loc_in, (1,1,2))\n",
    "            history = model.train_on_batch({'input1_patch': patch, 'input2_loc': loc_in, \n",
    "                                 'input3_coarse': img_coarse}, \n",
    "                                {'class': np_utils.to_categorical(true_class, 10), 'emit': true_loc})\n",
    "    model.reset_states()\n",
    "    return model\n",
    "\n",
    "def metrics(lab, loc, gnd_lab, gnd_loc):\n",
    "    label = np.zeros((2,2))\n",
    "    location = np.zeros((2,2))\n",
    "    loc_err = np.zeros((1,2))\n",
    "    lab_err = np.zeros((1,2))\n",
    "    \n",
    "    label[0,0] = np.argmax(np.sum(lab[0:5,:], 0))\n",
    "    label[0,1] = np.mean(lab[0:5,int(label[0,0])])\n",
    "    label[1,0] = np.argmax(np.sum(lab[5:10,:], 0))\n",
    "    label[1,1] = np.mean(lab[5:10,int(label[1,0])])\n",
    "    for i in range(0,5):\n",
    "        location[0,:] = location[0,:] + lab[i,int(label[0,0])] * loc[i,:]\n",
    "        location[1,:] = location[1,:] + lab[i+5,int(label[1,0])] * loc[i+5,:]\n",
    "        \n",
    "    loc_err[0,0] = np.sqrt(np.sum(np.square(location[0,:]-gnd_loc[0:2])))\n",
    "    loc_err[0,1] = np.sqrt(np.sum(np.square(location[1,:]-gnd_loc[2:4])))\n",
    "    lab_err[0,0] = (label[0,0]==gnd_lab[0])\n",
    "    lab_err[0,1] = (label[1,0]==gnd_lab[1])\n",
    "    return (label, location, lab_err, loc_err)\n",
    "\n",
    "def training_epoch(train_data, train_label, train_loc, model):\n",
    "    lab_err = np.zeros((train_data.shape[0],2))\n",
    "    loc_err = np.zeros((train_data.shape[0],2))\n",
    "    for i in range(0,train_data.shape[0]):\n",
    "        (lab, loc) = predict_on_image(train_data[i,:,:], model)\n",
    "        (label, location, lab_err[i,:], loc_err[i,:]) = metrics(lab, loc, train_label[i,:], train_loc[i,:])\n",
    "        model = train_on_image(train_data[i,:,:], train_label[i,:], train_loc[i,:], loc, model)\n",
    "    return (model, np.mean(np.mean(lab_err, 1)), np.mean(np.mean(loc_err, 1)))\n",
    "        \n",
    "def testing_epoch(test_data, test_label, test_loc, model):\n",
    "    lab_err = np.zeros((test_data.shape[0],2))\n",
    "    loc_err = np.zeros((test_data.shape[0],2))\n",
    "    for i in range(0,test_data.shape[0]):\n",
    "        (lab, loc) = predict_on_image(test_data[i,:,:], model)\n",
    "        (label, location, lab_err[i,:], loc_err[i,:]) = metrics(lab, loc, test_label[i,:], test_loc[i,:])\n",
    "    return (np.mean(np.mean(lab_err, 1)), np.mean(np.mean(loc_err, 1)))"
   ]
  },
  {
   "cell_type": "code",
   "execution_count": 50,
   "metadata": {
    "collapsed": false,
    "scrolled": true
   },
   "outputs": [],
   "source": [
    "(x_train, y_train), (x_test, y_test) = mnist.load_data()\n",
    "r_tr = np.random.randint(0, 60000-1, size=(60000,2))\n",
    "r_te = np.random.randint(0, 10000-1, size=(10000,2)) \n",
    "l_tr = np.random.randint(0, 100-29, size=(60000,4))\n",
    "l_te = np.random.randint(0, 100-29, size=(10000,4))\n",
    "\n",
    "(train_data, train_label, train_loc) = curate_data(x_train, y_train, r_tr, l_tr)\n",
    "(test_data, test_label, test_loc) = curate_data(x_test, y_test, r_te, l_te)\n",
    "\n",
    "num_epoch = 10\n",
    "model = att(((1,784,),(1,2),(1,625)),10,2)\n",
    "model.compile(optimizer='nadam',\n",
    "              loss={'class': 'binary_crossentropy', 'emit': 'binary_crossentropy'},\n",
    "              loss_weights={'class': 1., 'emit': 1.})\n",
    "\n",
    "train_lab_err = np.zeros((num_epoch,1))\n",
    "train_loc_err = np.zeros((num_epoch,1))\n",
    "test_lab_err = np.zeros((num_epoch,1))\n",
    "test_loc_err = np.zeros((num_epoch,1))\n",
    "for i in range(0,num_epoch):\n",
    "    (model, train_lab_err[i], train_loc_err[i]) = training_epoch(train_data, train_label, test_loc, model)\n",
    "    (test_lab_err[i], test_loc_err[i]) = testing_epoch(test_data, test_label, test_loc, model)\n",
    "\n",
    "%store test_lab_err > test_lab_err.txt\n",
    "%store test_loc_err > test_loc_err.txt\n",
    "%store train_lab_err > train_lab_err.txt\n",
    "%store train_loc_err > train_loc_err.txt\n",
    "model.save('my_model.h5')"
   ]
  },
  {
   "cell_type": "code",
   "execution_count": 38,
   "metadata": {
    "collapsed": true
   },
   "outputs": [],
   "source": [
    "(lab, loc) = predict_on_image(test_data[i,:,:], model)\n",
    "gnd_label = test_label[i,:]\n",
    "gnd_loc = test_loc[i,:]\n",
    "label = np.zeros((2,2))\n",
    "location = np.zeros((2,2))\n",
    "loc_err = np.zeros((1,2))\n",
    "lab_err = np.zeros((1,2))\n",
    "label[0,0] = np.argmax(np.sum(lab[0:5,:], 0))"
   ]
  },
  {
   "cell_type": "code",
   "execution_count": 46,
   "metadata": {
    "collapsed": false
   },
   "outputs": [
    {
     "data": {
      "text/plain": [
       "0.0"
      ]
     },
     "execution_count": 46,
     "metadata": {},
     "output_type": "execute_result"
    }
   ],
   "source": [
    "loc_err[0,0]"
   ]
  },
  {
   "cell_type": "code",
   "execution_count": 29,
   "metadata": {
    "collapsed": false
   },
   "outputs": [
    {
     "data": {
      "text/plain": [
       "0.0"
      ]
     },
     "execution_count": 29,
     "metadata": {},
     "output_type": "execute_result"
    }
   ],
   "source": [
    "label[0,0]"
   ]
  },
  {
   "cell_type": "code",
   "execution_count": 6,
   "metadata": {
    "collapsed": false
   },
   "outputs": [
    {
     "name": "stdout",
     "output_type": "stream",
     "text": [
      "Writing 's' (ndarray) to file 'foo.txt'.\n",
      "Writing 'd' (int) to file 'foo.txt'.\n"
     ]
    }
   ],
   "source": [
    "import numpy as np\n",
    "s = np.zeros((2,2))\n",
    "d = 1\n",
    "%store s > foo.txt\n",
    "%store d >> foo.txt"
   ]
  },
  {
   "cell_type": "code",
   "execution_count": null,
   "metadata": {
    "collapsed": true
   },
   "outputs": [],
   "source": []
  }
 ],
 "metadata": {
  "kernelspec": {
   "display_name": "Python [default]",
   "language": "python",
   "name": "python3"
  },
  "language_info": {
   "codemirror_mode": {
    "name": "ipython",
    "version": 3
   },
   "file_extension": ".py",
   "mimetype": "text/x-python",
   "name": "python",
   "nbconvert_exporter": "python",
   "pygments_lexer": "ipython3",
   "version": "3.6.0"
  }
 },
 "nbformat": 4,
 "nbformat_minor": 2
}
